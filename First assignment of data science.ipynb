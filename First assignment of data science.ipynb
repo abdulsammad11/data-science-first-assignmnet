{
 "cells": [
  {
   "cell_type": "code",
   "execution_count": 13,
   "id": "4909b775",
   "metadata": {},
   "outputs": [
    {
     "name": "stdout",
     "output_type": "stream",
     "text": [
      "Twinkle, tinkle, little, star,\n",
      "        How, I wonder what you are!\n",
      "             Up above the world so high,\n",
      "             Like a diamond in the sky,\n",
      "Twinkle, tinkle, little, star,\n",
      "        How, I wonder what you are!\n"
     ]
    }
   ],
   "source": [
    "print(\"Twinkle, tinkle, little, star,\")\n",
    "print(\"        How, I wonder what you are!\")\n",
    "print(\"             Up above the world so high,\")\n",
    "print(\"             Like a diamond in the sky,\")\n",
    "print(\"Twinkle, tinkle, little, star,\")\n",
    "print(\"        How, I wonder what you are!\")"
   ]
  },
  {
   "cell_type": "code",
   "execution_count": 16,
   "id": "0cf5ddc4",
   "metadata": {},
   "outputs": [
    {
     "name": "stdout",
     "output_type": "stream",
     "text": [
      "python Version\n",
      "3.9.7 (default, Sep 16 2021, 16:59:28) [MSC v.1916 64 bit (AMD64)]\n",
      "version info\n",
      "sys.version_info(major=3, minor=9, micro=7, releaselevel='final', serial=0)\n"
     ]
    }
   ],
   "source": [
    "import sys\n",
    "print(\"python Version\")\n",
    "print(sys.version)\n",
    "print(\"version info\")\n",
    "print(sys.version_info)"
   ]
  },
  {
   "cell_type": "code",
   "execution_count": 24,
   "id": "be3ca9d3",
   "metadata": {},
   "outputs": [
    {
     "name": "stdout",
     "output_type": "stream",
     "text": [
      "Current date and time is\n",
      "30-12-21 12:02:19\n"
     ]
    }
   ],
   "source": [
    "import datetime\n",
    "now = datetime.datetime.now()\n",
    "print(\"Current date and time is\")\n",
    "print(now.strftime(\"%d-%m-%y %H:%M:%S\"))\n"
   ]
  },
  {
   "cell_type": "code",
   "execution_count": 28,
   "id": "5430c33d",
   "metadata": {},
   "outputs": [
    {
     "name": "stdout",
     "output_type": "stream",
     "text": [
      "abdul.samad\n"
     ]
    }
   ],
   "source": [
    "a = \"abdul\"\n",
    "b = \".samad\"\n",
    "print(a + b)"
   ]
  },
  {
   "cell_type": "code",
   "execution_count": null,
   "id": "d2a2ce76",
   "metadata": {},
   "outputs": [],
   "source": []
  }
 ],
 "metadata": {
  "kernelspec": {
   "display_name": "Python 3 (ipykernel)",
   "language": "python",
   "name": "python3"
  },
  "language_info": {
   "codemirror_mode": {
    "name": "ipython",
    "version": 3
   },
   "file_extension": ".py",
   "mimetype": "text/x-python",
   "name": "python",
   "nbconvert_exporter": "python",
   "pygments_lexer": "ipython3",
   "version": "3.9.7"
  }
 },
 "nbformat": 4,
 "nbformat_minor": 5
}
